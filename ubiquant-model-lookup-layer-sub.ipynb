{
 "cells": [
  {
   "cell_type": "code",
   "execution_count": 1,
   "id": "d1f52950",
   "metadata": {
    "_cell_guid": "b1076dfc-b9ad-4769-8c92-a6c4dae69d19",
    "_uuid": "8f2839f25d086af736a60e9eeb907d3b93b6e0e5",
    "execution": {
     "iopub.execute_input": "2022-04-02T16:26:03.028009Z",
     "iopub.status.busy": "2022-04-02T16:26:03.027197Z",
     "iopub.status.idle": "2022-04-02T16:26:03.046347Z",
     "shell.execute_reply": "2022-04-02T16:26:03.046902Z",
     "shell.execute_reply.started": "2022-04-02T16:24:18.466137Z"
    },
    "papermill": {
     "duration": 0.046323,
     "end_time": "2022-04-02T16:26:03.047254",
     "exception": false,
     "start_time": "2022-04-02T16:26:03.000931",
     "status": "completed"
    },
    "tags": []
   },
   "outputs": [
    {
     "name": "stdout",
     "output_type": "stream",
     "text": [
      "/kaggle/input/ubiquant-first-draft/__results__.html\n",
      "/kaggle/input/ubiquant-first-draft/ubiquant-parquet_averages.parquet\n",
      "/kaggle/input/ubiquant-first-draft/__notebook__.ipynb\n",
      "/kaggle/input/ubiquant-first-draft/__output__.json\n",
      "/kaggle/input/ubiquant-first-draft/custom.css\n",
      "/kaggle/input/ubiquant-market-prediction/example_sample_submission.csv\n",
      "/kaggle/input/ubiquant-market-prediction/example_test.csv\n",
      "/kaggle/input/ubiquant-market-prediction/train.csv\n",
      "/kaggle/input/ubiquant-market-prediction/supplemental_train.csv\n",
      "/kaggle/input/ubiquant-market-prediction/ubiquant/competition.cpython-37m-x86_64-linux-gnu.so\n",
      "/kaggle/input/ubiquant-market-prediction/ubiquant/__init__.py\n",
      "/kaggle/input/ubiquant-model-with-lookup-my-data/model2_2.tf.data-00000-of-00001\n",
      "/kaggle/input/ubiquant-model-with-lookup-my-data/model2_4.tf.data-00000-of-00001\n",
      "/kaggle/input/ubiquant-model-with-lookup-my-data/__results__.html\n",
      "/kaggle/input/ubiquant-model-with-lookup-my-data/model2_3.tf.index\n",
      "/kaggle/input/ubiquant-model-with-lookup-my-data/model2_1.tf.index\n",
      "/kaggle/input/ubiquant-model-with-lookup-my-data/model2_0.tf.data-00000-of-00001\n",
      "/kaggle/input/ubiquant-model-with-lookup-my-data/model2_3.tf.data-00000-of-00001\n",
      "/kaggle/input/ubiquant-model-with-lookup-my-data/model2_1.tf.data-00000-of-00001\n",
      "/kaggle/input/ubiquant-model-with-lookup-my-data/submission.csv\n",
      "/kaggle/input/ubiquant-model-with-lookup-my-data/__notebook__.ipynb\n",
      "/kaggle/input/ubiquant-model-with-lookup-my-data/model2_2.tf.index\n",
      "/kaggle/input/ubiquant-model-with-lookup-my-data/model2_4.tf.index\n",
      "/kaggle/input/ubiquant-model-with-lookup-my-data/model2_0.tf.index\n",
      "/kaggle/input/ubiquant-model-with-lookup-my-data/__output__.json\n",
      "/kaggle/input/ubiquant-model-with-lookup-my-data/checkpoint\n",
      "/kaggle/input/ubiquant-model-with-lookup-my-data/custom.css\n"
     ]
    }
   ],
   "source": [
    "# This Python 3 environment comes with many helpful analytics libraries installed\n",
    "# It is defined by the kaggle/python Docker image: https://github.com/kaggle/docker-python\n",
    "# For example, here's several helpful packages to load\n",
    "\n",
    "import numpy as np # linear algebra\n",
    "import pandas as pd # data processing, CSV file I/O (e.g. pd.read_csv)\n",
    "\n",
    "# Input data files are available in the read-only \"../input/\" directory\n",
    "# For example, running this (by clicking run or pressing Shift+Enter) will list all files under the input directory\n",
    "\n",
    "import os\n",
    "for dirname, _, filenames in os.walk('/kaggle/input'):\n",
    "    for filename in filenames:\n",
    "        print(os.path.join(dirname, filename))\n",
    "\n",
    "# You can write up to 20GB to the current directory (/kaggle/working/) that gets preserved as output when you create a version using \"Save & Run All\" \n",
    "# You can also write temporary files to /kaggle/temp/, but they won't be saved outside of the current session"
   ]
  },
  {
   "cell_type": "code",
   "execution_count": 2,
   "id": "a2691ef8",
   "metadata": {
    "execution": {
     "iopub.execute_input": "2022-04-02T16:26:03.077975Z",
     "iopub.status.busy": "2022-04-02T16:26:03.077259Z",
     "iopub.status.idle": "2022-04-02T16:26:10.177271Z",
     "shell.execute_reply": "2022-04-02T16:26:10.177827Z",
     "shell.execute_reply.started": "2022-04-02T16:24:21.201247Z"
    },
    "papermill": {
     "duration": 7.116966,
     "end_time": "2022-04-02T16:26:10.178068",
     "exception": false,
     "start_time": "2022-04-02T16:26:03.061102",
     "status": "completed"
    },
    "tags": []
   },
   "outputs": [],
   "source": [
    "import os\n",
    "import pandas as pd\n",
    "import numpy as np\n",
    "import gc\n",
    "import matplotlib.pyplot as plt\n",
    "import tensorflow as tf\n",
    "from tensorflow.keras import layers\n",
    "from tensorflow import keras\n",
    "from scipy import stats\n",
    "from tensorflow.python.ops import math_ops\n",
    "from tensorflow.python.keras import backend as K"
   ]
  },
  {
   "cell_type": "code",
   "execution_count": 3,
   "id": "f795777e",
   "metadata": {
    "execution": {
     "iopub.execute_input": "2022-04-02T16:26:10.209465Z",
     "iopub.status.busy": "2022-04-02T16:26:10.208447Z",
     "iopub.status.idle": "2022-04-02T16:26:49.153402Z",
     "shell.execute_reply": "2022-04-02T16:26:49.153948Z",
     "shell.execute_reply.started": "2022-04-02T16:24:29.147550Z"
    },
    "papermill": {
     "duration": 38.962689,
     "end_time": "2022-04-02T16:26:49.154145",
     "exception": false,
     "start_time": "2022-04-02T16:26:10.191456",
     "status": "completed"
    },
    "tags": []
   },
   "outputs": [
    {
     "data": {
      "text/plain": [
       "(3141410, 304)"
      ]
     },
     "execution_count": 3,
     "metadata": {},
     "output_type": "execute_result"
    }
   ],
   "source": [
    "df = pd.read_parquet('../input/ubiquant-first-draft/ubiquant-parquet_averages.parquet')\n",
    "df.shape"
   ]
  },
  {
   "cell_type": "code",
   "execution_count": 4,
   "id": "43f29deb",
   "metadata": {
    "execution": {
     "iopub.execute_input": "2022-04-02T16:26:49.184615Z",
     "iopub.status.busy": "2022-04-02T16:26:49.183948Z",
     "iopub.status.idle": "2022-04-02T16:26:49.575027Z",
     "shell.execute_reply": "2022-04-02T16:26:49.574312Z",
     "shell.execute_reply.started": "2022-04-02T16:25:07.904513Z"
    },
    "papermill": {
     "duration": 0.407645,
     "end_time": "2022-04-02T16:26:49.575177",
     "exception": false,
     "start_time": "2022-04-02T16:26:49.167532",
     "status": "completed"
    },
    "tags": []
   },
   "outputs": [
    {
     "data": {
      "text/plain": [
       "43"
      ]
     },
     "execution_count": 4,
     "metadata": {},
     "output_type": "execute_result"
    }
   ],
   "source": [
    "investment_ids = df['investment_id'].unique()\n",
    "del df\n",
    "gc.collect()"
   ]
  },
  {
   "cell_type": "code",
   "execution_count": 5,
   "id": "96aa4e5e",
   "metadata": {
    "execution": {
     "iopub.execute_input": "2022-04-02T16:26:49.629711Z",
     "iopub.status.busy": "2022-04-02T16:26:49.628647Z",
     "iopub.status.idle": "2022-04-02T16:26:50.261340Z",
     "shell.execute_reply": "2022-04-02T16:26:50.262091Z",
     "shell.execute_reply.started": "2022-04-02T16:25:08.244271Z"
    },
    "papermill": {
     "duration": 0.673501,
     "end_time": "2022-04-02T16:26:50.262385",
     "exception": false,
     "start_time": "2022-04-02T16:26:49.588884",
     "status": "completed"
    },
    "tags": []
   },
   "outputs": [
    {
     "name": "stderr",
     "output_type": "stream",
     "text": [
      "2022-04-02 16:26:49.623156: I tensorflow/core/common_runtime/process_util.cc:146] Creating new thread pool with default inter op setting: 2. Tune using inter_op_parallelism_threads for best performance.\n",
      "2022-04-02 16:26:49.775403: I tensorflow/compiler/mlir/mlir_graph_optimization_pass.cc:185] None of the MLIR Optimization Passes are enabled (registered 2)\n"
     ]
    }
   ],
   "source": [
    "investment_id_size = len(investment_ids) + 1\n",
    "with tf.device(\"cpu\"):\n",
    "    investment_id_lookup_layer = layers.IntegerLookup(max_tokens=investment_id_size)\n",
    "    investment_id_lookup_layer.adapt(investment_ids)"
   ]
  },
  {
   "cell_type": "code",
   "execution_count": 6,
   "id": "89bc20b1",
   "metadata": {
    "execution": {
     "iopub.execute_input": "2022-04-02T16:26:50.304559Z",
     "iopub.status.busy": "2022-04-02T16:26:50.303846Z",
     "iopub.status.idle": "2022-04-02T16:26:50.307097Z",
     "shell.execute_reply": "2022-04-02T16:26:50.307555Z",
     "shell.execute_reply.started": "2022-04-02T16:25:09.054012Z"
    },
    "papermill": {
     "duration": 0.026738,
     "end_time": "2022-04-02T16:26:50.307757",
     "exception": false,
     "start_time": "2022-04-02T16:26:50.281019",
     "status": "completed"
    },
    "tags": []
   },
   "outputs": [],
   "source": [
    "def correlation(x, y, axis=-2):\n",
    "    \"\"\"Metric returning the Pearson correlation coefficient of two tensors over some axis, default -2.\"\"\"\n",
    "    x = tf.convert_to_tensor(x)\n",
    "    y = math_ops.cast(y, x.dtype)\n",
    "    n = tf.cast(tf.shape(x)[axis], x.dtype)\n",
    "    xsum = tf.reduce_sum(x, axis=axis)\n",
    "    ysum = tf.reduce_sum(y, axis=axis)\n",
    "    xmean = xsum / n\n",
    "    ymean = ysum / n\n",
    "    xvar = tf.reduce_sum( tf.math.squared_difference(x, xmean), axis=axis)\n",
    "    yvar = tf.reduce_sum( tf.math.squared_difference(y, ymean), axis=axis)\n",
    "    cov = tf.reduce_sum( (x - xmean) * (y - ymean), axis=axis)\n",
    "    corr = cov / tf.sqrt(xvar * yvar)\n",
    "    return tf.constant(1.0, dtype=x.dtype) - corr"
   ]
  },
  {
   "cell_type": "code",
   "execution_count": 7,
   "id": "d3f1a9c0",
   "metadata": {
    "execution": {
     "iopub.execute_input": "2022-04-02T16:26:50.340822Z",
     "iopub.status.busy": "2022-04-02T16:26:50.340040Z",
     "iopub.status.idle": "2022-04-02T16:26:50.354163Z",
     "shell.execute_reply": "2022-04-02T16:26:50.354731Z",
     "shell.execute_reply.started": "2022-04-02T16:25:09.065669Z"
    },
    "papermill": {
     "duration": 0.032634,
     "end_time": "2022-04-02T16:26:50.354944",
     "exception": false,
     "start_time": "2022-04-02T16:26:50.322310",
     "status": "completed"
    },
    "tags": []
   },
   "outputs": [],
   "source": [
    "def get_model2():\n",
    "    investment_id_inputs = tf.keras.Input((1, ), dtype=tf.uint16)\n",
    "    features_inputs = tf.keras.Input((300, ), dtype=tf.float16)\n",
    "    \n",
    "    investment_id_x = investment_id_lookup_layer(investment_id_inputs)\n",
    "    investment_id_x = layers.Embedding(investment_id_size, 32, input_length=1)(investment_id_x)\n",
    "    investment_id_x = layers.Reshape((-1, ))(investment_id_x)\n",
    "    investment_id_x = layers.Dense(64, activation='swish')(investment_id_x)\n",
    "    investment_id_x = layers.Dropout(0.1)(investment_id_x)\n",
    "    investment_id_x = layers.Dense(64, activation='swish')(investment_id_x)\n",
    "    investment_id_x = layers.Dropout(0.1)(investment_id_x)\n",
    "    investment_id_x = layers.Dense(64, activation='swish')(investment_id_x)\n",
    "    investment_id_x = layers.Dropout(0.1)(investment_id_x)\n",
    "    \n",
    "    feature_x = layers.Dense(256, activation='swish')(features_inputs)\n",
    "    feature_x = layers.Dropout(0.1)(feature_x)\n",
    "    feature_x = layers.Dense(256, activation='swish')(feature_x)\n",
    "    feature_x = layers.Dropout(0.1)(feature_x)\n",
    "    feature_x = layers.Dense(256, activation='swish')(feature_x)\n",
    "    feature_x = layers.Dropout(0.1)(feature_x)\n",
    "    \n",
    "    x = layers.Concatenate(axis=1)([investment_id_x, feature_x])\n",
    "    x = layers.Dense(512, activation='swish', kernel_regularizer=\"l2\")(x)\n",
    "    x = layers.Dropout(0.1)(x)\n",
    "    x = layers.Dense(128, activation='swish', kernel_regularizer=\"l2\")(x)\n",
    "    x = layers.Dropout(0.1)(x)\n",
    "    x = layers.Dense(32, activation='swish', kernel_regularizer=\"l2\")(x)\n",
    "    x = layers.Dropout(0.1)(x)\n",
    "    output = layers.Dense(1)(x)\n",
    "    rmse = keras.metrics.RootMeanSquaredError(name=\"rmse\")\n",
    "    model = tf.keras.Model(inputs=[investment_id_inputs, features_inputs], outputs=[output])\n",
    "    model.compile(optimizer=tf.optimizers.Adam(0.001), loss='mse', metrics=['mse', \"mae\", \"mape\", rmse, correlation])\n",
    "    return model"
   ]
  },
  {
   "cell_type": "code",
   "execution_count": 8,
   "id": "0f2644fb",
   "metadata": {
    "execution": {
     "iopub.execute_input": "2022-04-02T16:26:50.402189Z",
     "iopub.status.busy": "2022-04-02T16:26:50.401489Z",
     "iopub.status.idle": "2022-04-02T16:26:52.537490Z",
     "shell.execute_reply": "2022-04-02T16:26:52.538062Z",
     "shell.execute_reply.started": "2022-04-02T16:25:09.084195Z"
    },
    "papermill": {
     "duration": 2.16499,
     "end_time": "2022-04-02T16:26:52.538257",
     "exception": false,
     "start_time": "2022-04-02T16:26:50.373267",
     "status": "completed"
    },
    "tags": []
   },
   "outputs": [],
   "source": [
    "models2 = []\n",
    "for i in range(5):\n",
    "    model2 = get_model2()\n",
    "    model2.load_weights(f\"../input/ubiquant-model-with-lookup-my-data/model2_{i}.tf\")\n",
    "    models2.append(model2)"
   ]
  },
  {
   "cell_type": "code",
   "execution_count": 9,
   "id": "e2fe1172",
   "metadata": {
    "execution": {
     "iopub.execute_input": "2022-04-02T16:26:52.571755Z",
     "iopub.status.busy": "2022-04-02T16:26:52.571055Z",
     "iopub.status.idle": "2022-04-02T16:26:52.579902Z",
     "shell.execute_reply": "2022-04-02T16:26:52.580443Z",
     "shell.execute_reply.started": "2022-04-02T16:25:32.357270Z"
    },
    "papermill": {
     "duration": 0.027091,
     "end_time": "2022-04-02T16:26:52.580685",
     "exception": false,
     "start_time": "2022-04-02T16:26:52.553594",
     "status": "completed"
    },
    "tags": []
   },
   "outputs": [],
   "source": [
    "def preprocess_test(investment_id, feature):\n",
    "    return (investment_id, feature), 0\n",
    "def make_test_dataset2(feature, investment_id, batch_size=1024):\n",
    "    ds = tf.data.Dataset.from_tensor_slices(((investment_id, feature)))\n",
    "    ds = ds.map(preprocess_test)\n",
    "    ds = ds.batch(batch_size).cache().prefetch(tf.data.AUTOTUNE)\n",
    "    return ds\n",
    "def make_test_dataset1(feature, batch_size=1024):\n",
    "    ds = tf.data.Dataset.from_tensor_slices(((feature)))\n",
    "    ds = ds.batch(batch_size).cache().prefetch(tf.data.AUTOTUNE)\n",
    "    return ds\n",
    "def inference(models, ds):\n",
    "    y_preds = []\n",
    "    for model in models:\n",
    "        y_pred = model.predict(ds)\n",
    "        y_preds.append(y_pred)\n",
    "    return np.mean(y_preds, axis=0)"
   ]
  },
  {
   "cell_type": "code",
   "execution_count": 10,
   "id": "352fa7ac",
   "metadata": {
    "execution": {
     "iopub.execute_input": "2022-04-02T16:26:52.617782Z",
     "iopub.status.busy": "2022-04-02T16:26:52.613234Z",
     "iopub.status.idle": "2022-04-02T16:26:54.258020Z",
     "shell.execute_reply": "2022-04-02T16:26:54.257375Z",
     "shell.execute_reply.started": "2022-04-02T16:25:32.607560Z"
    },
    "papermill": {
     "duration": 1.662916,
     "end_time": "2022-04-02T16:26:54.258246",
     "exception": false,
     "start_time": "2022-04-02T16:26:52.595330",
     "status": "completed"
    },
    "tags": []
   },
   "outputs": [
    {
     "name": "stdout",
     "output_type": "stream",
     "text": [
      "This version of the API is not optimized and should not be used to estimate the runtime of your code on the hidden test set.\n"
     ]
    }
   ],
   "source": [
    "import ubiquant\n",
    "env = ubiquant.make_env()\n",
    "iter_test = env.iter_test() \n",
    "features = [f\"f_{i}\" for i in range(300)]\n",
    "for (test_df, sample_prediction_df) in iter_test:\n",
    "    ds2 = make_test_dataset2(test_df[features], test_df[\"investment_id\"])\n",
    "    sample_prediction_df['target'] = inference(models2, ds2)\n",
    "    env.predict(sample_prediction_df) "
   ]
  },
  {
   "cell_type": "code",
   "execution_count": null,
   "id": "34abc63f",
   "metadata": {
    "papermill": {
     "duration": 0.013934,
     "end_time": "2022-04-02T16:26:54.288120",
     "exception": false,
     "start_time": "2022-04-02T16:26:54.274186",
     "status": "completed"
    },
    "tags": []
   },
   "outputs": [],
   "source": []
  }
 ],
 "metadata": {
  "kernelspec": {
   "display_name": "Python 3",
   "language": "python",
   "name": "python3"
  },
  "language_info": {
   "codemirror_mode": {
    "name": "ipython",
    "version": 3
   },
   "file_extension": ".py",
   "mimetype": "text/x-python",
   "name": "python",
   "nbconvert_exporter": "python",
   "pygments_lexer": "ipython3",
   "version": "3.7.12"
  },
  "papermill": {
   "default_parameters": {},
   "duration": 64.690956,
   "end_time": "2022-04-02T16:26:57.244801",
   "environment_variables": {},
   "exception": null,
   "input_path": "__notebook__.ipynb",
   "output_path": "__notebook__.ipynb",
   "parameters": {},
   "start_time": "2022-04-02T16:25:52.553845",
   "version": "2.3.3"
  }
 },
 "nbformat": 4,
 "nbformat_minor": 5
}
